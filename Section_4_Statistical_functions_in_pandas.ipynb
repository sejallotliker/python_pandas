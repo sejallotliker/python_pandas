{
  "nbformat": 4,
  "nbformat_minor": 0,
  "metadata": {
    "colab": {
      "name": "Section-4 Statistical functions in pandas.ipynb",
      "provenance": [],
      "authorship_tag": "ABX9TyOzkuWUeCqW/dazyZ2iWTi+",
      "include_colab_link": true
    },
    "kernelspec": {
      "name": "python3",
      "display_name": "Python 3"
    },
    "language_info": {
      "name": "python"
    }
  },
  "cells": [
    {
      "cell_type": "markdown",
      "metadata": {
        "id": "view-in-github",
        "colab_type": "text"
      },
      "source": [
        "<a href=\"https://colab.research.google.com/github/sejallotliker/python_pandas/blob/main/Section_4_Statistical_functions_in_pandas.ipynb\" target=\"_parent\"><img src=\"https://colab.research.google.com/assets/colab-badge.svg\" alt=\"Open In Colab\"/></a>"
      ]
    },
    {
      "cell_type": "markdown",
      "metadata": {
        "id": "AHV26pd40A5d"
      },
      "source": [
        "#**Pandas** **Library**\n",
        "\n",
        "Course on udemy | Section-4\n",
        "\n",
        "Author: `Sejal Lotliker`\n",
        "\n",
        "Date: `11-06-2021`\n",
        "\n",
        "Contact:\n",
        "[Linkedin](https://www.linkedin.com/in/sejal-lotliker-a6aa88206/)"
      ]
    },
    {
      "cell_type": "code",
      "metadata": {
        "id": "YpjgXIElv_zJ"
      },
      "source": [
        "import pandas as pd\n",
        "import numpy as np"
      ],
      "execution_count": 1,
      "outputs": []
    },
    {
      "cell_type": "code",
      "metadata": {
        "colab": {
          "base_uri": "https://localhost:8080/"
        },
        "id": "oebnKTcGwe7i",
        "outputId": "6d56d5a7-ef6b-4988-9cef-84bf884eee79"
      },
      "source": [
        "df=pd.DataFrame(np.random.rand(6,3) ,columns = ['first', 'second', 'third'])\n",
        "df.apply(np.mean)\n",
        "print(df.apply(np.mean))"
      ],
      "execution_count": 5,
      "outputs": [
        {
          "output_type": "stream",
          "text": [
            "first     0.352687\n",
            "second    0.457369\n",
            "third     0.369622\n",
            "dtype: float64\n"
          ],
          "name": "stdout"
        }
      ]
    },
    {
      "cell_type": "markdown",
      "metadata": {
        "id": "nl5wXSK9z0xs"
      },
      "source": [
        "#Mean Function"
      ]
    },
    {
      "cell_type": "code",
      "metadata": {
        "colab": {
          "base_uri": "https://localhost:8080/"
        },
        "id": "7w2313TzxkgJ",
        "outputId": "0aa4ce5f-9d43-4959-b2e7-d34049bc9506"
      },
      "source": [
        "# by passing axis parameter, operations can be row wise\n",
        "df.apply(np.mean, axis=1)\n",
        "print(df.apply(np.mean))"
      ],
      "execution_count": 6,
      "outputs": [
        {
          "output_type": "stream",
          "text": [
            "first     0.352687\n",
            "second    0.457369\n",
            "third     0.369622\n",
            "dtype: float64\n"
          ],
          "name": "stdout"
        }
      ]
    },
    {
      "cell_type": "code",
      "metadata": {
        "colab": {
          "base_uri": "https://localhost:8080/"
        },
        "id": "LheqBQ9uysgl",
        "outputId": "34b6345a-e9c1-4953-88af-9283cd5c9d36"
      },
      "source": [
        "print(df.apply(np.mean, axis=1))"
      ],
      "execution_count": 7,
      "outputs": [
        {
          "output_type": "stream",
          "text": [
            "0    0.288206\n",
            "1    0.418487\n",
            "2    0.434096\n",
            "3    0.384600\n",
            "4    0.441127\n",
            "5    0.392839\n",
            "dtype: float64\n"
          ],
          "name": "stdout"
        }
      ]
    },
    {
      "cell_type": "code",
      "metadata": {
        "colab": {
          "base_uri": "https://localhost:8080/"
        },
        "id": "JdCs_1iiy8Bu",
        "outputId": "416859e5-a765-4ceb-ea4b-d43de1e026eb"
      },
      "source": [
        "#lambda function\n",
        "df.apply(lambda x:x.max()-x.min())\n",
        "print(df.apply(lambda x:x.max()-x.min()))"
      ],
      "execution_count": 8,
      "outputs": [
        {
          "output_type": "stream",
          "text": [
            "first     0.849794\n",
            "second    0.553676\n",
            "third     0.286996\n",
            "dtype: float64\n"
          ],
          "name": "stdout"
        }
      ]
    },
    {
      "cell_type": "markdown",
      "metadata": {
        "id": "oEKHoDX3z4zl"
      },
      "source": [
        "#covarience function\n",
        "\n",
        "It is a measure of the relationship two random variables."
      ]
    },
    {
      "cell_type": "code",
      "metadata": {
        "colab": {
          "base_uri": "https://localhost:8080/"
        },
        "id": "i-Fsfu9Izlo1",
        "outputId": "84fa7b44-fd4c-42c8-b834-fe6570799bde"
      },
      "source": [
        "a1 = pd.Series(np.random.randn(8))\n",
        "a2 = pd.Series(np.random.randn(8))\n",
        "print(a1.cov(a2))"
      ],
      "execution_count": 9,
      "outputs": [
        {
          "output_type": "stream",
          "text": [
            "-0.0010830235161101486\n"
          ],
          "name": "stdout"
        }
      ]
    },
    {
      "cell_type": "code",
      "metadata": {
        "colab": {
          "base_uri": "https://localhost:8080/"
        },
        "id": "ErDGB74-Aamp",
        "outputId": "a312e7f7-7105-4d23-ec3f-b0e75600383e"
      },
      "source": [
        "b = pd.DataFrame(np.random.randn(8,4), columns=['a1','a2','a3','a4'])\n",
        "print(b['a1'].cov(b['a2']))\n",
        "print(b.cov())"
      ],
      "execution_count": 11,
      "outputs": [
        {
          "output_type": "stream",
          "text": [
            "0.47286640464382007\n",
            "          a1        a2        a3        a4\n",
            "a1  2.096167  0.472866  0.410724  0.166442\n",
            "a2  0.472866  0.681413 -0.156726 -0.082268\n",
            "a3  0.410724 -0.156726  0.993288 -0.303467\n",
            "a4  0.166442 -0.082268 -0.303467  0.498604\n"
          ],
          "name": "stdout"
        }
      ]
    },
    {
      "cell_type": "markdown",
      "metadata": {
        "id": "nvlsEYnVCQEx"
      },
      "source": [
        "#Correlation Function\n",
        "\n",
        "It shows linear relationship between two array of values."
      ]
    },
    {
      "cell_type": "code",
      "metadata": {
        "colab": {
          "base_uri": "https://localhost:8080/"
        },
        "id": "nliquJktB5Ws",
        "outputId": "5c2dcdfa-fcd5-4c76-fb87-1609fd380149"
      },
      "source": [
        "a = pd.DataFrame(np.random.randn(10,5), columns =['a','b','c','d','e'])\n",
        "print(a[\"e\"].corr(a[\"a\"]))\n",
        "print(a.corr())"
      ],
      "execution_count": 19,
      "outputs": [
        {
          "output_type": "stream",
          "text": [
            "-0.16959726406248402\n",
            "          a         b         c         d         e\n",
            "a  1.000000  0.046901 -0.209555  0.189953 -0.169597\n",
            "b  0.046901  1.000000 -0.483295  0.581034 -0.089545\n",
            "c -0.209555 -0.483295  1.000000 -0.153851 -0.140842\n",
            "d  0.189953  0.581034 -0.153851  1.000000 -0.444771\n",
            "e -0.169597 -0.089545 -0.140842 -0.444771  1.000000\n"
          ],
          "name": "stdout"
        }
      ]
    },
    {
      "cell_type": "code",
      "metadata": {
        "colab": {
          "base_uri": "https://localhost:8080/"
        },
        "id": "T1_8urEQIAvB",
        "outputId": "0f95fab5-9d57-4568-e350-e0ccda6a3d5a"
      },
      "source": [
        "b=pd.DataFrame(np.random.randn(8,4), columns=['a1','a2','a3','a4'])\n",
        "print(b['a1'].corr(b['a2']))\n",
        "print(b.corr())\n",
        "\n",
        "# If any non-numeric column is present in the DataFrame, it is excluded automatically"
      ],
      "execution_count": 26,
      "outputs": [
        {
          "output_type": "stream",
          "text": [
            "-0.1712091588802533\n",
            "          a1        a2        a3        a4\n",
            "a1  1.000000 -0.171209 -0.484391  0.669452\n",
            "a2 -0.171209  1.000000 -0.184795  0.123804\n",
            "a3 -0.484391 -0.184795  1.000000 -0.325176\n",
            "a4  0.669452  0.123804 -0.325176  1.000000\n"
          ],
          "name": "stdout"
        }
      ]
    },
    {
      "cell_type": "markdown",
      "metadata": {
        "id": "BQZhjFO9KpYI"
      },
      "source": [
        "#.rolling() function\n",
        "\n",
        "This function can be applied to series of data.\n",
        "\n"
      ]
    },
    {
      "cell_type": "code",
      "metadata": {
        "id": "d5p7W4HhKAhY"
      },
      "source": [
        ""
      ],
      "execution_count": null,
      "outputs": []
    }
  ]
}