{
  "nbformat": 4,
  "nbformat_minor": 0,
  "metadata": {
    "colab": {
      "name": "Section-4 Statistical functions in pandas.ipynb",
      "provenance": [],
      "authorship_tag": "ABX9TyO32yFXnWvhXnrTHB5PKgLZ",
      "include_colab_link": true
    },
    "kernelspec": {
      "name": "python3",
      "display_name": "Python 3"
    },
    "language_info": {
      "name": "python"
    }
  },
  "cells": [
    {
      "cell_type": "markdown",
      "metadata": {
        "id": "view-in-github",
        "colab_type": "text"
      },
      "source": [
        "<a href=\"https://colab.research.google.com/github/sejallotliker/python_pandas/blob/main/Section_4_Statistical_functions_in_pandas.ipynb\" target=\"_parent\"><img src=\"https://colab.research.google.com/assets/colab-badge.svg\" alt=\"Open In Colab\"/></a>"
      ]
    },
    {
      "cell_type": "markdown",
      "metadata": {
        "id": "AHV26pd40A5d"
      },
      "source": [
        "#Pandas Library\n",
        "\n",
        "Course on udemy | Section-4\n",
        "\n",
        "Author: `Sejal Lotliker`\n",
        "\n",
        "Date: `11-06-2021`"
      ]
    },
    {
      "cell_type": "code",
      "metadata": {
        "id": "YpjgXIElv_zJ"
      },
      "source": [
        "import pandas as pd\n",
        "import numpy as np"
      ],
      "execution_count": 1,
      "outputs": []
    },
    {
      "cell_type": "code",
      "metadata": {
        "colab": {
          "base_uri": "https://localhost:8080/"
        },
        "id": "oebnKTcGwe7i",
        "outputId": "6d56d5a7-ef6b-4988-9cef-84bf884eee79"
      },
      "source": [
        "df=pd.DataFrame(np.random.rand(6,3) ,columns = ['first', 'second', 'third'])\n",
        "df.apply(np.mean)\n",
        "print(df.apply(np.mean))"
      ],
      "execution_count": 5,
      "outputs": [
        {
          "output_type": "stream",
          "text": [
            "first     0.352687\n",
            "second    0.457369\n",
            "third     0.369622\n",
            "dtype: float64\n"
          ],
          "name": "stdout"
        }
      ]
    },
    {
      "cell_type": "markdown",
      "metadata": {
        "id": "nl5wXSK9z0xs"
      },
      "source": [
        "#Mean Function"
      ]
    },
    {
      "cell_type": "code",
      "metadata": {
        "colab": {
          "base_uri": "https://localhost:8080/"
        },
        "id": "7w2313TzxkgJ",
        "outputId": "0aa4ce5f-9d43-4959-b2e7-d34049bc9506"
      },
      "source": [
        "# by passing axis parameter, operations can be row wise\n",
        "df.apply(np.mean, axis=1)\n",
        "print(df.apply(np.mean))"
      ],
      "execution_count": 6,
      "outputs": [
        {
          "output_type": "stream",
          "text": [
            "first     0.352687\n",
            "second    0.457369\n",
            "third     0.369622\n",
            "dtype: float64\n"
          ],
          "name": "stdout"
        }
      ]
    },
    {
      "cell_type": "code",
      "metadata": {
        "colab": {
          "base_uri": "https://localhost:8080/"
        },
        "id": "LheqBQ9uysgl",
        "outputId": "34b6345a-e9c1-4953-88af-9283cd5c9d36"
      },
      "source": [
        "print(df.apply(np.mean, axis=1))"
      ],
      "execution_count": 7,
      "outputs": [
        {
          "output_type": "stream",
          "text": [
            "0    0.288206\n",
            "1    0.418487\n",
            "2    0.434096\n",
            "3    0.384600\n",
            "4    0.441127\n",
            "5    0.392839\n",
            "dtype: float64\n"
          ],
          "name": "stdout"
        }
      ]
    },
    {
      "cell_type": "code",
      "metadata": {
        "colab": {
          "base_uri": "https://localhost:8080/"
        },
        "id": "JdCs_1iiy8Bu",
        "outputId": "416859e5-a765-4ceb-ea4b-d43de1e026eb"
      },
      "source": [
        "#lambda function\n",
        "df.apply(lambda x:x.max()-x.min())\n",
        "print(df.apply(lambda x:x.max()-x.min()))"
      ],
      "execution_count": 8,
      "outputs": [
        {
          "output_type": "stream",
          "text": [
            "first     0.849794\n",
            "second    0.553676\n",
            "third     0.286996\n",
            "dtype: float64\n"
          ],
          "name": "stdout"
        }
      ]
    },
    {
      "cell_type": "markdown",
      "metadata": {
        "id": "oEKHoDX3z4zl"
      },
      "source": [
        "#covarience function"
      ]
    },
    {
      "cell_type": "code",
      "metadata": {
        "id": "i-Fsfu9Izlo1"
      },
      "source": [
        ""
      ],
      "execution_count": null,
      "outputs": []
    }
  ]
}