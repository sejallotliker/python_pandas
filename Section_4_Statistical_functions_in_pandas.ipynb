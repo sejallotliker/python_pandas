{
  "nbformat": 4,
  "nbformat_minor": 0,
  "metadata": {
    "colab": {
      "name": "Section-4 Statistical functions in pandas.ipynb",
      "provenance": [],
      "authorship_tag": "ABX9TyOa3oBIzJNDKDi3oTdBJv68",
      "include_colab_link": true
    },
    "kernelspec": {
      "name": "python3",
      "display_name": "Python 3"
    },
    "language_info": {
      "name": "python"
    }
  },
  "cells": [
    {
      "cell_type": "markdown",
      "metadata": {
        "id": "view-in-github",
        "colab_type": "text"
      },
      "source": [
        "<a href=\"https://colab.research.google.com/github/sejallotliker/python_pandas/blob/main/Section_4_Statistical_functions_in_pandas.ipynb\" target=\"_parent\"><img src=\"https://colab.research.google.com/assets/colab-badge.svg\" alt=\"Open In Colab\"/></a>"
      ]
    },
    {
      "cell_type": "markdown",
      "metadata": {
        "id": "AHV26pd40A5d"
      },
      "source": [
        "#**Pandas** **Library**\n",
        "\n",
        "Course on udemy | Section-4\n",
        "\n",
        "Author: `Sejal Lotliker`\n",
        "\n",
        "Date: `11-06-2021`\n"
      ]
    },
    {
      "cell_type": "code",
      "metadata": {
        "id": "YpjgXIElv_zJ"
      },
      "source": [
        "import pandas as pd\n",
        "import numpy as np"
      ],
      "execution_count": 2,
      "outputs": []
    },
    {
      "cell_type": "code",
      "metadata": {
        "colab": {
          "base_uri": "https://localhost:8080/"
        },
        "id": "oebnKTcGwe7i",
        "outputId": "e2dd36df-2016-45b8-8eec-bd4e237ac80e"
      },
      "source": [
        "df=pd.DataFrame(np.random.rand(6,3) ,columns = ['first', 'second', 'third'])\n",
        "df.apply(np.mean)\n",
        "print(df.apply(np.mean))"
      ],
      "execution_count": 3,
      "outputs": [
        {
          "output_type": "stream",
          "text": [
            "first     0.461441\n",
            "second    0.617071\n",
            "third     0.419859\n",
            "dtype: float64\n"
          ],
          "name": "stdout"
        }
      ]
    },
    {
      "cell_type": "markdown",
      "metadata": {
        "id": "nl5wXSK9z0xs"
      },
      "source": [
        "#Mean Function"
      ]
    },
    {
      "cell_type": "code",
      "metadata": {
        "colab": {
          "base_uri": "https://localhost:8080/"
        },
        "id": "7w2313TzxkgJ",
        "outputId": "89b8d771-7693-4224-e7a8-54595c59f96f"
      },
      "source": [
        "# by passing axis parameter, operations can be row wise\n",
        "df.apply(np.mean, axis=1)\n",
        "print(df.apply(np.mean))"
      ],
      "execution_count": 4,
      "outputs": [
        {
          "output_type": "stream",
          "text": [
            "first     0.461441\n",
            "second    0.617071\n",
            "third     0.419859\n",
            "dtype: float64\n"
          ],
          "name": "stdout"
        }
      ]
    },
    {
      "cell_type": "code",
      "metadata": {
        "colab": {
          "base_uri": "https://localhost:8080/"
        },
        "id": "LheqBQ9uysgl",
        "outputId": "f026fd28-abd0-4fc8-bcbf-c84c6031ab94"
      },
      "source": [
        "print(df.apply(np.mean, axis=1))"
      ],
      "execution_count": 5,
      "outputs": [
        {
          "output_type": "stream",
          "text": [
            "0    0.653892\n",
            "1    0.458940\n",
            "2    0.808806\n",
            "3    0.317585\n",
            "4    0.198009\n",
            "5    0.559508\n",
            "dtype: float64\n"
          ],
          "name": "stdout"
        }
      ]
    },
    {
      "cell_type": "code",
      "metadata": {
        "colab": {
          "base_uri": "https://localhost:8080/"
        },
        "id": "JdCs_1iiy8Bu",
        "outputId": "6fb6af19-4ef1-4775-dc1e-95beadd42365"
      },
      "source": [
        "#lambda function\n",
        "df.apply(lambda x:x.max()-x.min())\n",
        "print(df.apply(lambda x:x.max()-x.min()))"
      ],
      "execution_count": 6,
      "outputs": [
        {
          "output_type": "stream",
          "text": [
            "first     0.826047\n",
            "second    0.893099\n",
            "third     0.914932\n",
            "dtype: float64\n"
          ],
          "name": "stdout"
        }
      ]
    },
    {
      "cell_type": "markdown",
      "metadata": {
        "id": "oEKHoDX3z4zl"
      },
      "source": [
        "#covarience function\n",
        "\n",
        "It is a measure of the relationship two random variables."
      ]
    },
    {
      "cell_type": "code",
      "metadata": {
        "colab": {
          "base_uri": "https://localhost:8080/"
        },
        "id": "i-Fsfu9Izlo1",
        "outputId": "e04eaee3-d3c1-4701-9bca-a13ac06b506c"
      },
      "source": [
        "a1 = pd.Series(np.random.randn(8))\n",
        "a2 = pd.Series(np.random.randn(8))\n",
        "print(a1.cov(a2))"
      ],
      "execution_count": 7,
      "outputs": [
        {
          "output_type": "stream",
          "text": [
            "-0.15326824300340233\n"
          ],
          "name": "stdout"
        }
      ]
    },
    {
      "cell_type": "code",
      "metadata": {
        "colab": {
          "base_uri": "https://localhost:8080/"
        },
        "id": "ErDGB74-Aamp",
        "outputId": "b3733010-b7bb-4bd9-bdab-3a7ad0cbb7b4"
      },
      "source": [
        "b = pd.DataFrame(np.random.randn(8,4), columns=['a1','a2','a3','a4'])\n",
        "print(b['a1'].cov(b['a2']))\n",
        "print(b.cov())"
      ],
      "execution_count": 8,
      "outputs": [
        {
          "output_type": "stream",
          "text": [
            "0.04963812622667186\n",
            "          a1        a2        a3        a4\n",
            "a1  0.825436  0.049638 -0.286919  0.332034\n",
            "a2  0.049638  0.518707 -0.156409  0.213858\n",
            "a3 -0.286919 -0.156409  0.331487 -0.081097\n",
            "a4  0.332034  0.213858 -0.081097  0.981377\n"
          ],
          "name": "stdout"
        }
      ]
    },
    {
      "cell_type": "markdown",
      "metadata": {
        "id": "nvlsEYnVCQEx"
      },
      "source": [
        "#Correlation Function\n",
        "\n",
        "It shows linear relationship between two array of values."
      ]
    },
    {
      "cell_type": "code",
      "metadata": {
        "colab": {
          "base_uri": "https://localhost:8080/"
        },
        "id": "nliquJktB5Ws",
        "outputId": "fa4bde00-af40-49ea-ace7-4d50f6016d23"
      },
      "source": [
        "a = pd.DataFrame(np.random.randn(10,5), columns =['a','b','c','d','e'])\n",
        "print(a[\"e\"].corr(a[\"a\"]))\n",
        "print(a.corr())"
      ],
      "execution_count": 9,
      "outputs": [
        {
          "output_type": "stream",
          "text": [
            "-0.2489518012494046\n",
            "          a         b         c         d         e\n",
            "a  1.000000 -0.065306 -0.254980  0.175529 -0.248952\n",
            "b -0.065306  1.000000  0.092047  0.424293 -0.067751\n",
            "c -0.254980  0.092047  1.000000 -0.196059 -0.226671\n",
            "d  0.175529  0.424293 -0.196059  1.000000 -0.066090\n",
            "e -0.248952 -0.067751 -0.226671 -0.066090  1.000000\n"
          ],
          "name": "stdout"
        }
      ]
    },
    {
      "cell_type": "code",
      "metadata": {
        "colab": {
          "base_uri": "https://localhost:8080/"
        },
        "id": "T1_8urEQIAvB",
        "outputId": "7e363c6d-8cc3-45cc-f00f-417d4d0c7ee3"
      },
      "source": [
        "b=pd.DataFrame(np.random.randn(8,4), columns=['a1','a2','a3','a4'])\n",
        "print(b['a1'].corr(b['a2']))\n",
        "print(b.corr())\n",
        "\n",
        "# If any non-numeric column is present in the DataFrame, it is excluded automatically"
      ],
      "execution_count": 10,
      "outputs": [
        {
          "output_type": "stream",
          "text": [
            "0.5208478816145569\n",
            "          a1        a2        a3        a4\n",
            "a1  1.000000  0.520848  0.908645 -0.126358\n",
            "a2  0.520848  1.000000  0.635717 -0.400779\n",
            "a3  0.908645  0.635717  1.000000 -0.164096\n",
            "a4 -0.126358 -0.400779 -0.164096  1.000000\n"
          ],
          "name": "stdout"
        }
      ]
    },
    {
      "cell_type": "markdown",
      "metadata": {
        "id": "BQZhjFO9KpYI"
      },
      "source": [
        "#.rolling() function\n",
        "\n",
        "This function can be applied to series of data. \n",
        "\n",
        "Specify the window = n arguement and apply the appropriate statistical function on top of it.\n",
        "\n"
      ]
    },
    {
      "cell_type": "code",
      "metadata": {
        "id": "d5p7W4HhKAhY"
      },
      "source": [
        "a = pd.DataFrame(np.random.randn(10,4), \n",
        "                 index=pd.date_range('1/1/2002', periods=10), #series of data\n",
        "                 columns=['one','two','three','four'])\n"
      ],
      "execution_count": 12,
      "outputs": []
    },
    {
      "cell_type": "code",
      "metadata": {
        "colab": {
          "base_uri": "https://localhost:8080/"
        },
        "id": "Ceee3Ey3i2G-",
        "outputId": "3a236c2b-462e-4812-94bc-ff2f7efc42ed"
      },
      "source": [
        "print(a.rolling(window=3).mean()) "
      ],
      "execution_count": 21,
      "outputs": [
        {
          "output_type": "stream",
          "text": [
            "                 one       two     three      four\n",
            "2002-01-01       NaN       NaN       NaN       NaN\n",
            "2002-01-02       NaN       NaN       NaN       NaN\n",
            "2002-01-03  0.292503 -0.168785  0.170845 -0.949238\n",
            "2002-01-04  0.008136 -0.407385  0.624522 -0.226941\n",
            "2002-01-05 -0.195272  0.075109  0.153940  0.218103\n",
            "2002-01-06  0.771704  0.564963 -0.087786  0.648547\n",
            "2002-01-07  0.002084  0.889700 -0.518103  0.846092\n",
            "2002-01-08 -0.132351  0.652228  0.041380  0.140059\n",
            "2002-01-09 -0.601075  0.461026  0.985906  0.102003\n",
            "2002-01-10  0.225850  0.239232  0.501222 -0.375382\n"
          ],
          "name": "stdout"
        }
      ]
    },
    {
      "cell_type": "markdown",
      "metadata": {
        "id": "syYfADnumEaA"
      },
      "source": [
        "#.expanding function\n",
        "\n",
        "This function can be applied on the series of data.\n",
        "Specify the min_periods=n arguement and apply the appropriate statistical function on top of it."
      ]
    },
    {
      "cell_type": "code",
      "metadata": {
        "colab": {
          "base_uri": "https://localhost:8080/"
        },
        "id": "0sDlMaQ4jCvs",
        "outputId": "54129fa3-6598-40b9-9194-5ee34dc78722"
      },
      "source": [
        "b = pd.DataFrame(np.random.randn(12,5),\n",
        "                 index = pd.date_range(2/2/2010, periods = 12),\n",
        "                 columns = ['A','B','C','D','E'])\n",
        "\n",
        "print(b.expanding(min_periods=3).mean())"
      ],
      "execution_count": 25,
      "outputs": [
        {
          "output_type": "stream",
          "text": [
            "                   A         B         C         D         E\n",
            "1970-01-01       NaN       NaN       NaN       NaN       NaN\n",
            "1970-01-02       NaN       NaN       NaN       NaN       NaN\n",
            "1970-01-03  0.103657  0.148952 -0.329435 -0.298969  0.416718\n",
            "1970-01-04  0.058914  0.243177  0.201956 -0.200557  0.582833\n",
            "1970-01-05  0.146482  0.428906 -0.032620  0.058512  0.249203\n",
            "1970-01-06  0.074495  0.689359  0.025401  0.117259  0.326995\n",
            "1970-01-07  0.521142  0.620421  0.016125  0.002086  0.375981\n",
            "1970-01-08  0.367516  0.638705  0.005362  0.098530  0.265568\n",
            "1970-01-09  0.397481  0.505391 -0.283760  0.087528  0.372470\n",
            "1970-01-10  0.377651  0.579064 -0.294750 -0.003322  0.265078\n",
            "1970-01-11  0.406691  0.463200 -0.253821 -0.086800  0.244889\n",
            "1970-01-12  0.456945  0.483831 -0.431174 -0.019193  0.163509\n"
          ],
          "name": "stdout"
        }
      ]
    },
    {
      "cell_type": "markdown",
      "metadata": {
        "id": "BUR6_GtLqUrM"
      },
      "source": [
        "#melt() function\n",
        "\n",
        "It is a function used to convert wide dataframes to narrow ones."
      ]
    },
    {
      "cell_type": "code",
      "metadata": {
        "id": "e8dkgu7HpS9q"
      },
      "source": [
        "my_var= pd.DataFrame({'A':{0:'a',1:'b',2:'c'},\n",
        "                      'B':{0:1, 1:3, 2:5},\n",
        "                      'C':{0:2, 1:4, 2:6}})"
      ],
      "execution_count": 26,
      "outputs": []
    },
    {
      "cell_type": "code",
      "metadata": {
        "colab": {
          "base_uri": "https://localhost:8080/",
          "height": 142
        },
        "id": "Vx59Mxjpt9mF",
        "outputId": "0ceaa482-6c2e-49b0-97c7-1e24cf55f4d0"
      },
      "source": [
        "my_var"
      ],
      "execution_count": 27,
      "outputs": [
        {
          "output_type": "execute_result",
          "data": {
            "text/html": [
              "<div>\n",
              "<style scoped>\n",
              "    .dataframe tbody tr th:only-of-type {\n",
              "        vertical-align: middle;\n",
              "    }\n",
              "\n",
              "    .dataframe tbody tr th {\n",
              "        vertical-align: top;\n",
              "    }\n",
              "\n",
              "    .dataframe thead th {\n",
              "        text-align: right;\n",
              "    }\n",
              "</style>\n",
              "<table border=\"1\" class=\"dataframe\">\n",
              "  <thead>\n",
              "    <tr style=\"text-align: right;\">\n",
              "      <th></th>\n",
              "      <th>A</th>\n",
              "      <th>B</th>\n",
              "      <th>C</th>\n",
              "    </tr>\n",
              "  </thead>\n",
              "  <tbody>\n",
              "    <tr>\n",
              "      <th>0</th>\n",
              "      <td>a</td>\n",
              "      <td>1</td>\n",
              "      <td>2</td>\n",
              "    </tr>\n",
              "    <tr>\n",
              "      <th>1</th>\n",
              "      <td>b</td>\n",
              "      <td>3</td>\n",
              "      <td>4</td>\n",
              "    </tr>\n",
              "    <tr>\n",
              "      <th>2</th>\n",
              "      <td>c</td>\n",
              "      <td>5</td>\n",
              "      <td>6</td>\n",
              "    </tr>\n",
              "  </tbody>\n",
              "</table>\n",
              "</div>"
            ],
            "text/plain": [
              "   A  B  C\n",
              "0  a  1  2\n",
              "1  b  3  4\n",
              "2  c  5  6"
            ]
          },
          "metadata": {
            "tags": []
          },
          "execution_count": 27
        }
      ]
    },
    {
      "cell_type": "code",
      "metadata": {
        "colab": {
          "base_uri": "https://localhost:8080/",
          "height": 142
        },
        "id": "5N4eVdhpuALE",
        "outputId": "00f29423-9f52-4e85-977e-c79ff96c889b"
      },
      "source": [
        "pd.melt(my_var, id_vars=['A'], value_vars=['B'])"
      ],
      "execution_count": 28,
      "outputs": [
        {
          "output_type": "execute_result",
          "data": {
            "text/html": [
              "<div>\n",
              "<style scoped>\n",
              "    .dataframe tbody tr th:only-of-type {\n",
              "        vertical-align: middle;\n",
              "    }\n",
              "\n",
              "    .dataframe tbody tr th {\n",
              "        vertical-align: top;\n",
              "    }\n",
              "\n",
              "    .dataframe thead th {\n",
              "        text-align: right;\n",
              "    }\n",
              "</style>\n",
              "<table border=\"1\" class=\"dataframe\">\n",
              "  <thead>\n",
              "    <tr style=\"text-align: right;\">\n",
              "      <th></th>\n",
              "      <th>A</th>\n",
              "      <th>variable</th>\n",
              "      <th>value</th>\n",
              "    </tr>\n",
              "  </thead>\n",
              "  <tbody>\n",
              "    <tr>\n",
              "      <th>0</th>\n",
              "      <td>a</td>\n",
              "      <td>B</td>\n",
              "      <td>1</td>\n",
              "    </tr>\n",
              "    <tr>\n",
              "      <th>1</th>\n",
              "      <td>b</td>\n",
              "      <td>B</td>\n",
              "      <td>3</td>\n",
              "    </tr>\n",
              "    <tr>\n",
              "      <th>2</th>\n",
              "      <td>c</td>\n",
              "      <td>B</td>\n",
              "      <td>5</td>\n",
              "    </tr>\n",
              "  </tbody>\n",
              "</table>\n",
              "</div>"
            ],
            "text/plain": [
              "   A variable  value\n",
              "0  a        B      1\n",
              "1  b        B      3\n",
              "2  c        B      5"
            ]
          },
          "metadata": {
            "tags": []
          },
          "execution_count": 28
        }
      ]
    },
    {
      "cell_type": "code",
      "metadata": {
        "colab": {
          "base_uri": "https://localhost:8080/",
          "height": 234
        },
        "id": "mCLpc4jnubVZ",
        "outputId": "a050ff99-c6d6-4aee-a12b-0f38124c99cb"
      },
      "source": [
        "pd.melt(my_var, id_vars=['A'], value_vars=['B','C'])"
      ],
      "execution_count": 31,
      "outputs": [
        {
          "output_type": "execute_result",
          "data": {
            "text/html": [
              "<div>\n",
              "<style scoped>\n",
              "    .dataframe tbody tr th:only-of-type {\n",
              "        vertical-align: middle;\n",
              "    }\n",
              "\n",
              "    .dataframe tbody tr th {\n",
              "        vertical-align: top;\n",
              "    }\n",
              "\n",
              "    .dataframe thead th {\n",
              "        text-align: right;\n",
              "    }\n",
              "</style>\n",
              "<table border=\"1\" class=\"dataframe\">\n",
              "  <thead>\n",
              "    <tr style=\"text-align: right;\">\n",
              "      <th></th>\n",
              "      <th>A</th>\n",
              "      <th>variable</th>\n",
              "      <th>value</th>\n",
              "    </tr>\n",
              "  </thead>\n",
              "  <tbody>\n",
              "    <tr>\n",
              "      <th>0</th>\n",
              "      <td>a</td>\n",
              "      <td>B</td>\n",
              "      <td>1</td>\n",
              "    </tr>\n",
              "    <tr>\n",
              "      <th>1</th>\n",
              "      <td>b</td>\n",
              "      <td>B</td>\n",
              "      <td>3</td>\n",
              "    </tr>\n",
              "    <tr>\n",
              "      <th>2</th>\n",
              "      <td>c</td>\n",
              "      <td>B</td>\n",
              "      <td>5</td>\n",
              "    </tr>\n",
              "    <tr>\n",
              "      <th>3</th>\n",
              "      <td>a</td>\n",
              "      <td>C</td>\n",
              "      <td>2</td>\n",
              "    </tr>\n",
              "    <tr>\n",
              "      <th>4</th>\n",
              "      <td>b</td>\n",
              "      <td>C</td>\n",
              "      <td>4</td>\n",
              "    </tr>\n",
              "    <tr>\n",
              "      <th>5</th>\n",
              "      <td>c</td>\n",
              "      <td>C</td>\n",
              "      <td>6</td>\n",
              "    </tr>\n",
              "  </tbody>\n",
              "</table>\n",
              "</div>"
            ],
            "text/plain": [
              "   A variable  value\n",
              "0  a        B      1\n",
              "1  b        B      3\n",
              "2  c        B      5\n",
              "3  a        C      2\n",
              "4  b        C      4\n",
              "5  c        C      6"
            ]
          },
          "metadata": {
            "tags": []
          },
          "execution_count": 31
        }
      ]
    },
    {
      "cell_type": "code",
      "metadata": {
        "colab": {
          "base_uri": "https://localhost:8080/",
          "height": 142
        },
        "id": "JsXKVs3puulU",
        "outputId": "d31663c3-37eb-46a9-c23f-5d0b4585df9b"
      },
      "source": [
        "pd.melt(my_var, id_vars=['A'], value_vars=['B'], var_name= 'myVarName',\n",
        "        value_name='myValueName')"
      ],
      "execution_count": 32,
      "outputs": [
        {
          "output_type": "execute_result",
          "data": {
            "text/html": [
              "<div>\n",
              "<style scoped>\n",
              "    .dataframe tbody tr th:only-of-type {\n",
              "        vertical-align: middle;\n",
              "    }\n",
              "\n",
              "    .dataframe tbody tr th {\n",
              "        vertical-align: top;\n",
              "    }\n",
              "\n",
              "    .dataframe thead th {\n",
              "        text-align: right;\n",
              "    }\n",
              "</style>\n",
              "<table border=\"1\" class=\"dataframe\">\n",
              "  <thead>\n",
              "    <tr style=\"text-align: right;\">\n",
              "      <th></th>\n",
              "      <th>A</th>\n",
              "      <th>myVarName</th>\n",
              "      <th>myValueName</th>\n",
              "    </tr>\n",
              "  </thead>\n",
              "  <tbody>\n",
              "    <tr>\n",
              "      <th>0</th>\n",
              "      <td>a</td>\n",
              "      <td>B</td>\n",
              "      <td>1</td>\n",
              "    </tr>\n",
              "    <tr>\n",
              "      <th>1</th>\n",
              "      <td>b</td>\n",
              "      <td>B</td>\n",
              "      <td>3</td>\n",
              "    </tr>\n",
              "    <tr>\n",
              "      <th>2</th>\n",
              "      <td>c</td>\n",
              "      <td>B</td>\n",
              "      <td>5</td>\n",
              "    </tr>\n",
              "  </tbody>\n",
              "</table>\n",
              "</div>"
            ],
            "text/plain": [
              "   A myVarName  myValueName\n",
              "0  a         B            1\n",
              "1  b         B            3\n",
              "2  c         B            5"
            ]
          },
          "metadata": {
            "tags": []
          },
          "execution_count": 32
        }
      ]
    },
    {
      "cell_type": "code",
      "metadata": {
        "id": "LfU8cwIXvkXd"
      },
      "source": [
        ""
      ],
      "execution_count": null,
      "outputs": []
    }
  ]
}